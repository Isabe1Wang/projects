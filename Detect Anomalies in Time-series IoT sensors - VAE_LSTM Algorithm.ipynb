{
  "nbformat": 4,
  "nbformat_minor": 0,
  "metadata": {
    "colab": {
      "provenance": []
    },
    "kernelspec": {
      "name": "python3",
      "display_name": "Python 3"
    },
    "language_info": {
      "name": "python"
    }
  },
  "cells": [
    {
      "cell_type": "markdown",
      "source": [
        "## Common"
      ],
      "metadata": {
        "id": "2muLGGu2pfuq"
      }
    },
    {
      "cell_type": "code",
      "source": [
        "import numpy as np\n",
        "import pandas as pd\n",
        "import math\n",
        "import matplotlib.pyplot as plt\n",
        "import tensorflow as tf\n",
        "\n",
        "from sklearn.preprocessing import StandardScaler, MinMaxScaler\n",
        "from sklearn.metrics import (accuracy_score, classification_report, confusion_matrix)\n",
        "\n",
        "from sklearn.decomposition import PCA\n",
        "from sklearn.discriminant_analysis import LinearDiscriminantAnalysis\n",
        "\n",
        "from imblearn.over_sampling import SMOTE\n",
        "\n",
        "from google.colab import drive\n",
        "drive.mount('/content/gdrive')"
      ],
      "metadata": {
        "colab": {
          "base_uri": "https://localhost:8080/"
        },
        "id": "f4d9cIoPpff2",
        "outputId": "fd36567b-d000-4fc9-a6e0-fba571e25fd5"
      },
      "execution_count": 1,
      "outputs": [
        {
          "output_type": "stream",
          "name": "stdout",
          "text": [
            "Mounted at /content/gdrive\n"
          ]
        }
      ]
    },
    {
      "cell_type": "markdown",
      "source": [
        "## Data import & preprocessing"
      ],
      "metadata": {
        "id": "fV1ZpK5tp6jk"
      }
    },
    {
      "cell_type": "code",
      "source": [
        "data_with_attack = pd.read_csv('gdrive/MyDrive/COMP DATA5703/SWAT_with_attack_cleaning_sampling.csv')\n",
        "data_with_attack.head()"
      ],
      "metadata": {
        "colab": {
          "base_uri": "https://localhost:8080/",
          "height": 235
        },
        "id": "bWSrBv1eqBx7",
        "outputId": "7dd7a846-09b4-4837-eb3f-1526c2a6c5e4"
      },
      "execution_count": 2,
      "outputs": [
        {
          "output_type": "execute_result",
          "data": {
            "text/plain": [
              "   Row  Class  P203  MV101    AIT203    AIT202    FIT301   AIT401    PIT502  \\\n",
              "0   30      1     2      2  328.6337  8.390669  2.212215  148.808  1.649953   \n",
              "1   60      1     2      2  328.5055  8.391951  2.207347  148.808  1.649953   \n",
              "2   90      1     2      2  328.4286  8.391951  2.209653  148.808  1.569859   \n",
              "3  120      1     2      2  328.4286  8.391630  2.212600  148.808  1.665972   \n",
              "4  150      1     2      2  328.1210  8.391630  2.208756  148.808  1.665972   \n",
              "\n",
              "     FIT501  ...    FIT101   DPIT301    FIT504    LIT401    AIT501    FIT601  \\\n",
              "0  1.727250  ...  2.527624  19.68756  0.306569  946.2958  7.878621  0.000128   \n",
              "1  1.726609  ...  2.649329  19.70677  0.306569  946.1036  7.878621  0.000128   \n",
              "2  1.727378  ...  2.620824  19.60433  0.306505  950.5255  7.878621  0.000128   \n",
              "3  1.725327  ...  2.586875  19.65555  0.308426  954.1015  7.877019  0.000128   \n",
              "4  1.727890  ...  2.542677  19.73558  0.308939  955.5242  7.877660  0.000128   \n",
              "\n",
              "     LIT301  P102    FIT201    FIT401  \n",
              "0  957.6071     1  2.439881  1.717361  \n",
              "1  959.7299     1  2.442700  1.719924  \n",
              "2  959.5697     1  2.444751  1.719924  \n",
              "3  961.0116     1  2.440137  1.716849  \n",
              "4  963.6151     1  2.440393  1.717233  \n",
              "\n",
              "[5 rows x 33 columns]"
            ],
            "text/html": [
              "\n",
              "  <div id=\"df-69287021-2566-473c-a8e5-ddb5027f203b\">\n",
              "    <div class=\"colab-df-container\">\n",
              "      <div>\n",
              "<style scoped>\n",
              "    .dataframe tbody tr th:only-of-type {\n",
              "        vertical-align: middle;\n",
              "    }\n",
              "\n",
              "    .dataframe tbody tr th {\n",
              "        vertical-align: top;\n",
              "    }\n",
              "\n",
              "    .dataframe thead th {\n",
              "        text-align: right;\n",
              "    }\n",
              "</style>\n",
              "<table border=\"1\" class=\"dataframe\">\n",
              "  <thead>\n",
              "    <tr style=\"text-align: right;\">\n",
              "      <th></th>\n",
              "      <th>Row</th>\n",
              "      <th>Class</th>\n",
              "      <th>P203</th>\n",
              "      <th>MV101</th>\n",
              "      <th>AIT203</th>\n",
              "      <th>AIT202</th>\n",
              "      <th>FIT301</th>\n",
              "      <th>AIT401</th>\n",
              "      <th>PIT502</th>\n",
              "      <th>FIT501</th>\n",
              "      <th>...</th>\n",
              "      <th>FIT101</th>\n",
              "      <th>DPIT301</th>\n",
              "      <th>FIT504</th>\n",
              "      <th>LIT401</th>\n",
              "      <th>AIT501</th>\n",
              "      <th>FIT601</th>\n",
              "      <th>LIT301</th>\n",
              "      <th>P102</th>\n",
              "      <th>FIT201</th>\n",
              "      <th>FIT401</th>\n",
              "    </tr>\n",
              "  </thead>\n",
              "  <tbody>\n",
              "    <tr>\n",
              "      <th>0</th>\n",
              "      <td>30</td>\n",
              "      <td>1</td>\n",
              "      <td>2</td>\n",
              "      <td>2</td>\n",
              "      <td>328.6337</td>\n",
              "      <td>8.390669</td>\n",
              "      <td>2.212215</td>\n",
              "      <td>148.808</td>\n",
              "      <td>1.649953</td>\n",
              "      <td>1.727250</td>\n",
              "      <td>...</td>\n",
              "      <td>2.527624</td>\n",
              "      <td>19.68756</td>\n",
              "      <td>0.306569</td>\n",
              "      <td>946.2958</td>\n",
              "      <td>7.878621</td>\n",
              "      <td>0.000128</td>\n",
              "      <td>957.6071</td>\n",
              "      <td>1</td>\n",
              "      <td>2.439881</td>\n",
              "      <td>1.717361</td>\n",
              "    </tr>\n",
              "    <tr>\n",
              "      <th>1</th>\n",
              "      <td>60</td>\n",
              "      <td>1</td>\n",
              "      <td>2</td>\n",
              "      <td>2</td>\n",
              "      <td>328.5055</td>\n",
              "      <td>8.391951</td>\n",
              "      <td>2.207347</td>\n",
              "      <td>148.808</td>\n",
              "      <td>1.649953</td>\n",
              "      <td>1.726609</td>\n",
              "      <td>...</td>\n",
              "      <td>2.649329</td>\n",
              "      <td>19.70677</td>\n",
              "      <td>0.306569</td>\n",
              "      <td>946.1036</td>\n",
              "      <td>7.878621</td>\n",
              "      <td>0.000128</td>\n",
              "      <td>959.7299</td>\n",
              "      <td>1</td>\n",
              "      <td>2.442700</td>\n",
              "      <td>1.719924</td>\n",
              "    </tr>\n",
              "    <tr>\n",
              "      <th>2</th>\n",
              "      <td>90</td>\n",
              "      <td>1</td>\n",
              "      <td>2</td>\n",
              "      <td>2</td>\n",
              "      <td>328.4286</td>\n",
              "      <td>8.391951</td>\n",
              "      <td>2.209653</td>\n",
              "      <td>148.808</td>\n",
              "      <td>1.569859</td>\n",
              "      <td>1.727378</td>\n",
              "      <td>...</td>\n",
              "      <td>2.620824</td>\n",
              "      <td>19.60433</td>\n",
              "      <td>0.306505</td>\n",
              "      <td>950.5255</td>\n",
              "      <td>7.878621</td>\n",
              "      <td>0.000128</td>\n",
              "      <td>959.5697</td>\n",
              "      <td>1</td>\n",
              "      <td>2.444751</td>\n",
              "      <td>1.719924</td>\n",
              "    </tr>\n",
              "    <tr>\n",
              "      <th>3</th>\n",
              "      <td>120</td>\n",
              "      <td>1</td>\n",
              "      <td>2</td>\n",
              "      <td>2</td>\n",
              "      <td>328.4286</td>\n",
              "      <td>8.391630</td>\n",
              "      <td>2.212600</td>\n",
              "      <td>148.808</td>\n",
              "      <td>1.665972</td>\n",
              "      <td>1.725327</td>\n",
              "      <td>...</td>\n",
              "      <td>2.586875</td>\n",
              "      <td>19.65555</td>\n",
              "      <td>0.308426</td>\n",
              "      <td>954.1015</td>\n",
              "      <td>7.877019</td>\n",
              "      <td>0.000128</td>\n",
              "      <td>961.0116</td>\n",
              "      <td>1</td>\n",
              "      <td>2.440137</td>\n",
              "      <td>1.716849</td>\n",
              "    </tr>\n",
              "    <tr>\n",
              "      <th>4</th>\n",
              "      <td>150</td>\n",
              "      <td>1</td>\n",
              "      <td>2</td>\n",
              "      <td>2</td>\n",
              "      <td>328.1210</td>\n",
              "      <td>8.391630</td>\n",
              "      <td>2.208756</td>\n",
              "      <td>148.808</td>\n",
              "      <td>1.665972</td>\n",
              "      <td>1.727890</td>\n",
              "      <td>...</td>\n",
              "      <td>2.542677</td>\n",
              "      <td>19.73558</td>\n",
              "      <td>0.308939</td>\n",
              "      <td>955.5242</td>\n",
              "      <td>7.877660</td>\n",
              "      <td>0.000128</td>\n",
              "      <td>963.6151</td>\n",
              "      <td>1</td>\n",
              "      <td>2.440393</td>\n",
              "      <td>1.717233</td>\n",
              "    </tr>\n",
              "  </tbody>\n",
              "</table>\n",
              "<p>5 rows × 33 columns</p>\n",
              "</div>\n",
              "      <button class=\"colab-df-convert\" onclick=\"convertToInteractive('df-69287021-2566-473c-a8e5-ddb5027f203b')\"\n",
              "              title=\"Convert this dataframe to an interactive table.\"\n",
              "              style=\"display:none;\">\n",
              "        \n",
              "  <svg xmlns=\"http://www.w3.org/2000/svg\" height=\"24px\"viewBox=\"0 0 24 24\"\n",
              "       width=\"24px\">\n",
              "    <path d=\"M0 0h24v24H0V0z\" fill=\"none\"/>\n",
              "    <path d=\"M18.56 5.44l.94 2.06.94-2.06 2.06-.94-2.06-.94-.94-2.06-.94 2.06-2.06.94zm-11 1L8.5 8.5l.94-2.06 2.06-.94-2.06-.94L8.5 2.5l-.94 2.06-2.06.94zm10 10l.94 2.06.94-2.06 2.06-.94-2.06-.94-.94-2.06-.94 2.06-2.06.94z\"/><path d=\"M17.41 7.96l-1.37-1.37c-.4-.4-.92-.59-1.43-.59-.52 0-1.04.2-1.43.59L10.3 9.45l-7.72 7.72c-.78.78-.78 2.05 0 2.83L4 21.41c.39.39.9.59 1.41.59.51 0 1.02-.2 1.41-.59l7.78-7.78 2.81-2.81c.8-.78.8-2.07 0-2.86zM5.41 20L4 18.59l7.72-7.72 1.47 1.35L5.41 20z\"/>\n",
              "  </svg>\n",
              "      </button>\n",
              "      \n",
              "  <style>\n",
              "    .colab-df-container {\n",
              "      display:flex;\n",
              "      flex-wrap:wrap;\n",
              "      gap: 12px;\n",
              "    }\n",
              "\n",
              "    .colab-df-convert {\n",
              "      background-color: #E8F0FE;\n",
              "      border: none;\n",
              "      border-radius: 50%;\n",
              "      cursor: pointer;\n",
              "      display: none;\n",
              "      fill: #1967D2;\n",
              "      height: 32px;\n",
              "      padding: 0 0 0 0;\n",
              "      width: 32px;\n",
              "    }\n",
              "\n",
              "    .colab-df-convert:hover {\n",
              "      background-color: #E2EBFA;\n",
              "      box-shadow: 0px 1px 2px rgba(60, 64, 67, 0.3), 0px 1px 3px 1px rgba(60, 64, 67, 0.15);\n",
              "      fill: #174EA6;\n",
              "    }\n",
              "\n",
              "    [theme=dark] .colab-df-convert {\n",
              "      background-color: #3B4455;\n",
              "      fill: #D2E3FC;\n",
              "    }\n",
              "\n",
              "    [theme=dark] .colab-df-convert:hover {\n",
              "      background-color: #434B5C;\n",
              "      box-shadow: 0px 1px 3px 1px rgba(0, 0, 0, 0.15);\n",
              "      filter: drop-shadow(0px 1px 2px rgba(0, 0, 0, 0.3));\n",
              "      fill: #FFFFFF;\n",
              "    }\n",
              "  </style>\n",
              "\n",
              "      <script>\n",
              "        const buttonEl =\n",
              "          document.querySelector('#df-69287021-2566-473c-a8e5-ddb5027f203b button.colab-df-convert');\n",
              "        buttonEl.style.display =\n",
              "          google.colab.kernel.accessAllowed ? 'block' : 'none';\n",
              "\n",
              "        async function convertToInteractive(key) {\n",
              "          const element = document.querySelector('#df-69287021-2566-473c-a8e5-ddb5027f203b');\n",
              "          const dataTable =\n",
              "            await google.colab.kernel.invokeFunction('convertToInteractive',\n",
              "                                                     [key], {});\n",
              "          if (!dataTable) return;\n",
              "\n",
              "          const docLinkHtml = 'Like what you see? Visit the ' +\n",
              "            '<a target=\"_blank\" href=https://colab.research.google.com/notebooks/data_table.ipynb>data table notebook</a>'\n",
              "            + ' to learn more about interactive tables.';\n",
              "          element.innerHTML = '';\n",
              "          dataTable['output_type'] = 'display_data';\n",
              "          await google.colab.output.renderOutput(dataTable, element);\n",
              "          const docLink = document.createElement('div');\n",
              "          docLink.innerHTML = docLinkHtml;\n",
              "          element.appendChild(docLink);\n",
              "        }\n",
              "      </script>\n",
              "    </div>\n",
              "  </div>\n",
              "  "
            ]
          },
          "metadata": {},
          "execution_count": 2
        }
      ]
    },
    {
      "cell_type": "code",
      "source": [
        "data_all_normal = pd.read_csv('gdrive/MyDrive/COMP DATA5703/SWAT_all_normal_data_cleaning_sampling.csv')\n",
        "data_all_normal.head()"
      ],
      "metadata": {
        "colab": {
          "base_uri": "https://localhost:8080/",
          "height": 235
        },
        "id": "joAcxGfaqDZO",
        "outputId": "3a6ca9af-dc8d-4762-904e-7849e8d82609"
      },
      "execution_count": 3,
      "outputs": [
        {
          "output_type": "execute_result",
          "data": {
            "text/plain": [
              "   Row  Class  P203  MV101    AIT203    AIT202    FIT301  AIT401  PIT502  \\\n",
              "0   30      1     1      1  312.9198  8.313766  0.000256     0.0     0.0   \n",
              "1   60      1     1      1  313.1761  8.310242  0.000256     0.0     0.0   \n",
              "2   90      1     1      1  313.3299  8.308319  0.000256     0.0     0.0   \n",
              "3  120      1     1      1  313.4581  8.315048  0.000256     0.0     0.0   \n",
              "4  150      1     1      1  313.5863  8.310562  0.000256     0.0     0.0   \n",
              "\n",
              "     FIT501  ...  FIT101   DPIT301  FIT504    LIT401    AIT501    FIT601  \\\n",
              "0  0.001538  ...     0.0  2.560983     0.0  133.5811  7.444758  0.000256   \n",
              "1  0.001538  ...     0.0  2.560983     0.0  132.8121  7.443476  0.000256   \n",
              "2  0.001538  ...     0.0  2.560983     0.0  133.2351  7.445399  0.000256   \n",
              "3  0.001538  ...     0.0  2.564185     0.0  132.8890  7.444758  0.000256   \n",
              "4  0.001538  ...     0.0  2.564185     0.0  132.2738  7.443476  0.000256   \n",
              "\n",
              "     LIT301  P102  FIT201  FIT401  \n",
              "0  137.8252     1     0.0     0.0  \n",
              "1  138.1056     1     0.0     0.0  \n",
              "2  137.7051     1     0.0     0.0  \n",
              "3  137.0242     1     0.0     0.0  \n",
              "4  136.4234     1     0.0     0.0  \n",
              "\n",
              "[5 rows x 33 columns]"
            ],
            "text/html": [
              "\n",
              "  <div id=\"df-005958f5-2612-464b-8c8f-c160091b879b\">\n",
              "    <div class=\"colab-df-container\">\n",
              "      <div>\n",
              "<style scoped>\n",
              "    .dataframe tbody tr th:only-of-type {\n",
              "        vertical-align: middle;\n",
              "    }\n",
              "\n",
              "    .dataframe tbody tr th {\n",
              "        vertical-align: top;\n",
              "    }\n",
              "\n",
              "    .dataframe thead th {\n",
              "        text-align: right;\n",
              "    }\n",
              "</style>\n",
              "<table border=\"1\" class=\"dataframe\">\n",
              "  <thead>\n",
              "    <tr style=\"text-align: right;\">\n",
              "      <th></th>\n",
              "      <th>Row</th>\n",
              "      <th>Class</th>\n",
              "      <th>P203</th>\n",
              "      <th>MV101</th>\n",
              "      <th>AIT203</th>\n",
              "      <th>AIT202</th>\n",
              "      <th>FIT301</th>\n",
              "      <th>AIT401</th>\n",
              "      <th>PIT502</th>\n",
              "      <th>FIT501</th>\n",
              "      <th>...</th>\n",
              "      <th>FIT101</th>\n",
              "      <th>DPIT301</th>\n",
              "      <th>FIT504</th>\n",
              "      <th>LIT401</th>\n",
              "      <th>AIT501</th>\n",
              "      <th>FIT601</th>\n",
              "      <th>LIT301</th>\n",
              "      <th>P102</th>\n",
              "      <th>FIT201</th>\n",
              "      <th>FIT401</th>\n",
              "    </tr>\n",
              "  </thead>\n",
              "  <tbody>\n",
              "    <tr>\n",
              "      <th>0</th>\n",
              "      <td>30</td>\n",
              "      <td>1</td>\n",
              "      <td>1</td>\n",
              "      <td>1</td>\n",
              "      <td>312.9198</td>\n",
              "      <td>8.313766</td>\n",
              "      <td>0.000256</td>\n",
              "      <td>0.0</td>\n",
              "      <td>0.0</td>\n",
              "      <td>0.001538</td>\n",
              "      <td>...</td>\n",
              "      <td>0.0</td>\n",
              "      <td>2.560983</td>\n",
              "      <td>0.0</td>\n",
              "      <td>133.5811</td>\n",
              "      <td>7.444758</td>\n",
              "      <td>0.000256</td>\n",
              "      <td>137.8252</td>\n",
              "      <td>1</td>\n",
              "      <td>0.0</td>\n",
              "      <td>0.0</td>\n",
              "    </tr>\n",
              "    <tr>\n",
              "      <th>1</th>\n",
              "      <td>60</td>\n",
              "      <td>1</td>\n",
              "      <td>1</td>\n",
              "      <td>1</td>\n",
              "      <td>313.1761</td>\n",
              "      <td>8.310242</td>\n",
              "      <td>0.000256</td>\n",
              "      <td>0.0</td>\n",
              "      <td>0.0</td>\n",
              "      <td>0.001538</td>\n",
              "      <td>...</td>\n",
              "      <td>0.0</td>\n",
              "      <td>2.560983</td>\n",
              "      <td>0.0</td>\n",
              "      <td>132.8121</td>\n",
              "      <td>7.443476</td>\n",
              "      <td>0.000256</td>\n",
              "      <td>138.1056</td>\n",
              "      <td>1</td>\n",
              "      <td>0.0</td>\n",
              "      <td>0.0</td>\n",
              "    </tr>\n",
              "    <tr>\n",
              "      <th>2</th>\n",
              "      <td>90</td>\n",
              "      <td>1</td>\n",
              "      <td>1</td>\n",
              "      <td>1</td>\n",
              "      <td>313.3299</td>\n",
              "      <td>8.308319</td>\n",
              "      <td>0.000256</td>\n",
              "      <td>0.0</td>\n",
              "      <td>0.0</td>\n",
              "      <td>0.001538</td>\n",
              "      <td>...</td>\n",
              "      <td>0.0</td>\n",
              "      <td>2.560983</td>\n",
              "      <td>0.0</td>\n",
              "      <td>133.2351</td>\n",
              "      <td>7.445399</td>\n",
              "      <td>0.000256</td>\n",
              "      <td>137.7051</td>\n",
              "      <td>1</td>\n",
              "      <td>0.0</td>\n",
              "      <td>0.0</td>\n",
              "    </tr>\n",
              "    <tr>\n",
              "      <th>3</th>\n",
              "      <td>120</td>\n",
              "      <td>1</td>\n",
              "      <td>1</td>\n",
              "      <td>1</td>\n",
              "      <td>313.4581</td>\n",
              "      <td>8.315048</td>\n",
              "      <td>0.000256</td>\n",
              "      <td>0.0</td>\n",
              "      <td>0.0</td>\n",
              "      <td>0.001538</td>\n",
              "      <td>...</td>\n",
              "      <td>0.0</td>\n",
              "      <td>2.564185</td>\n",
              "      <td>0.0</td>\n",
              "      <td>132.8890</td>\n",
              "      <td>7.444758</td>\n",
              "      <td>0.000256</td>\n",
              "      <td>137.0242</td>\n",
              "      <td>1</td>\n",
              "      <td>0.0</td>\n",
              "      <td>0.0</td>\n",
              "    </tr>\n",
              "    <tr>\n",
              "      <th>4</th>\n",
              "      <td>150</td>\n",
              "      <td>1</td>\n",
              "      <td>1</td>\n",
              "      <td>1</td>\n",
              "      <td>313.5863</td>\n",
              "      <td>8.310562</td>\n",
              "      <td>0.000256</td>\n",
              "      <td>0.0</td>\n",
              "      <td>0.0</td>\n",
              "      <td>0.001538</td>\n",
              "      <td>...</td>\n",
              "      <td>0.0</td>\n",
              "      <td>2.564185</td>\n",
              "      <td>0.0</td>\n",
              "      <td>132.2738</td>\n",
              "      <td>7.443476</td>\n",
              "      <td>0.000256</td>\n",
              "      <td>136.4234</td>\n",
              "      <td>1</td>\n",
              "      <td>0.0</td>\n",
              "      <td>0.0</td>\n",
              "    </tr>\n",
              "  </tbody>\n",
              "</table>\n",
              "<p>5 rows × 33 columns</p>\n",
              "</div>\n",
              "      <button class=\"colab-df-convert\" onclick=\"convertToInteractive('df-005958f5-2612-464b-8c8f-c160091b879b')\"\n",
              "              title=\"Convert this dataframe to an interactive table.\"\n",
              "              style=\"display:none;\">\n",
              "        \n",
              "  <svg xmlns=\"http://www.w3.org/2000/svg\" height=\"24px\"viewBox=\"0 0 24 24\"\n",
              "       width=\"24px\">\n",
              "    <path d=\"M0 0h24v24H0V0z\" fill=\"none\"/>\n",
              "    <path d=\"M18.56 5.44l.94 2.06.94-2.06 2.06-.94-2.06-.94-.94-2.06-.94 2.06-2.06.94zm-11 1L8.5 8.5l.94-2.06 2.06-.94-2.06-.94L8.5 2.5l-.94 2.06-2.06.94zm10 10l.94 2.06.94-2.06 2.06-.94-2.06-.94-.94-2.06-.94 2.06-2.06.94z\"/><path d=\"M17.41 7.96l-1.37-1.37c-.4-.4-.92-.59-1.43-.59-.52 0-1.04.2-1.43.59L10.3 9.45l-7.72 7.72c-.78.78-.78 2.05 0 2.83L4 21.41c.39.39.9.59 1.41.59.51 0 1.02-.2 1.41-.59l7.78-7.78 2.81-2.81c.8-.78.8-2.07 0-2.86zM5.41 20L4 18.59l7.72-7.72 1.47 1.35L5.41 20z\"/>\n",
              "  </svg>\n",
              "      </button>\n",
              "      \n",
              "  <style>\n",
              "    .colab-df-container {\n",
              "      display:flex;\n",
              "      flex-wrap:wrap;\n",
              "      gap: 12px;\n",
              "    }\n",
              "\n",
              "    .colab-df-convert {\n",
              "      background-color: #E8F0FE;\n",
              "      border: none;\n",
              "      border-radius: 50%;\n",
              "      cursor: pointer;\n",
              "      display: none;\n",
              "      fill: #1967D2;\n",
              "      height: 32px;\n",
              "      padding: 0 0 0 0;\n",
              "      width: 32px;\n",
              "    }\n",
              "\n",
              "    .colab-df-convert:hover {\n",
              "      background-color: #E2EBFA;\n",
              "      box-shadow: 0px 1px 2px rgba(60, 64, 67, 0.3), 0px 1px 3px 1px rgba(60, 64, 67, 0.15);\n",
              "      fill: #174EA6;\n",
              "    }\n",
              "\n",
              "    [theme=dark] .colab-df-convert {\n",
              "      background-color: #3B4455;\n",
              "      fill: #D2E3FC;\n",
              "    }\n",
              "\n",
              "    [theme=dark] .colab-df-convert:hover {\n",
              "      background-color: #434B5C;\n",
              "      box-shadow: 0px 1px 3px 1px rgba(0, 0, 0, 0.15);\n",
              "      filter: drop-shadow(0px 1px 2px rgba(0, 0, 0, 0.3));\n",
              "      fill: #FFFFFF;\n",
              "    }\n",
              "  </style>\n",
              "\n",
              "      <script>\n",
              "        const buttonEl =\n",
              "          document.querySelector('#df-005958f5-2612-464b-8c8f-c160091b879b button.colab-df-convert');\n",
              "        buttonEl.style.display =\n",
              "          google.colab.kernel.accessAllowed ? 'block' : 'none';\n",
              "\n",
              "        async function convertToInteractive(key) {\n",
              "          const element = document.querySelector('#df-005958f5-2612-464b-8c8f-c160091b879b');\n",
              "          const dataTable =\n",
              "            await google.colab.kernel.invokeFunction('convertToInteractive',\n",
              "                                                     [key], {});\n",
              "          if (!dataTable) return;\n",
              "\n",
              "          const docLinkHtml = 'Like what you see? Visit the ' +\n",
              "            '<a target=\"_blank\" href=https://colab.research.google.com/notebooks/data_table.ipynb>data table notebook</a>'\n",
              "            + ' to learn more about interactive tables.';\n",
              "          element.innerHTML = '';\n",
              "          dataTable['output_type'] = 'display_data';\n",
              "          await google.colab.output.renderOutput(dataTable, element);\n",
              "          const docLink = document.createElement('div');\n",
              "          docLink.innerHTML = docLinkHtml;\n",
              "          element.appendChild(docLink);\n",
              "        }\n",
              "      </script>\n",
              "    </div>\n",
              "  </div>\n",
              "  "
            ]
          },
          "metadata": {},
          "execution_count": 3
        }
      ]
    },
    {
      "cell_type": "code",
      "source": [
        "data_with_attack.shape, data_all_normal.shape"
      ],
      "metadata": {
        "colab": {
          "base_uri": "https://localhost:8080/"
        },
        "id": "idK8OKQVqEyz",
        "outputId": "ab3e6f0d-eae2-4c45-e9e1-4b92368bb7c5"
      },
      "execution_count": 4,
      "outputs": [
        {
          "output_type": "execute_result",
          "data": {
            "text/plain": [
              "((13862, 33), (16500, 33))"
            ]
          },
          "metadata": {},
          "execution_count": 4
        }
      ]
    },
    {
      "cell_type": "code",
      "source": [
        "data_with_attack.dropna(inplace=True)"
      ],
      "metadata": {
        "id": "RxjO6uU-35lD"
      },
      "execution_count": 5,
      "outputs": []
    },
    {
      "cell_type": "markdown",
      "source": [
        "**PCA** does not work well:\n",
        "1.   The proportion of abnormal data is small\n",
        "2.   Unimportant features have high variance\n",
        "**LDA Test here:**"
      ],
      "metadata": {
        "id": "GDC8Ih3-qOAL"
      }
    },
    {
      "cell_type": "code",
      "source": [
        "from sklearn.discriminant_analysis import LinearDiscriminantAnalysis\n",
        "\n",
        "X_test = data_with_attack.iloc[:, 1:-1].to_numpy().astype(np.float32) # with attack\n",
        "Y_test = data_with_attack['Class'].to_numpy().astype(np.float32)\n",
        "lda = LinearDiscriminantAnalysis()\n",
        "lda.fit(X_test, Y_test)\n",
        "X_test = lda.transform(X_test)\n",
        "plt.scatter(X_test[:, 0], Y_test, marker='o', c=Y_test)\n",
        "plt.show()"
      ],
      "metadata": {
        "colab": {
          "base_uri": "https://localhost:8080/",
          "height": 265
        },
        "id": "jDIyKklGqMSR",
        "outputId": "cdb39e14-3a0d-4255-94da-ed1f138c0c60"
      },
      "execution_count": 6,
      "outputs": [
        {
          "output_type": "display_data",
          "data": {
            "text/plain": [
              "<Figure size 432x288 with 1 Axes>"
            ],
            "image/png": "[encoded data removed]"
          },
          "metadata": {
            "needs_background": "light"
          }
        }
      ]
    },
    {
      "cell_type": "code",
      "source": [
        "# Scale and PCA/LDA\n",
        "from sklearn.decomposition import PCA\n",
        "from sklearn.discriminant_analysis import LinearDiscriminantAnalysis\n",
        "\n",
        "X_test = data_with_attack.iloc[:, 1:-1].to_numpy().astype(np.float32) # with attack\n",
        "Y_test = data_with_attack['Class'].to_numpy().astype(np.float32)\n",
        "X_train = data_all_normal.iloc[:, 1:-1].to_numpy().astype(np.float32) # all normal\n",
        "\"\"\"\n",
        "# Because abnormal data is few, we should increase the proportion of abnormal data before PCA to contain the feature of abnormal data\n",
        "X_attack = data_with_attack[data_with_attack['Class'] == -1].iloc[:, 1:-1].to_numpy().astype(np.float32) # only attack\n",
        "# increase attack data\n",
        "X_alter_for_PCA = X_attack\n",
        "for i in range(20):\n",
        "  X_alter_for_PCA = np.concatenate((X_alter_for_PCA, X_attack))\n",
        "\n",
        "pca = PCA(n_components=.99).fit(np.concatenate((X_train, X_test, X_alter_for_PCA)))\n",
        "X_test = pca.transform(X_test)\n",
        "X_train = pca.transform(X_train)\n",
        "\"\"\"\n",
        "\n",
        "lda = LinearDiscriminantAnalysis()\n",
        "lda.fit(X_test, Y_test)\n",
        "X_test = lda.transform(X_test)\n",
        "X_train = lda.transform(X_train)\n",
        "\n",
        "# Pre-process\n",
        "from sklearn.preprocessing import StandardScaler, MinMaxScaler\n",
        "\n",
        "scaler = MinMaxScaler(feature_range=(0,1))\n",
        "scaler1 = StandardScaler()\n",
        "\n",
        "scaler1.fit(np.concatenate((X_train, X_test)))\n",
        "X_train = scaler1.transform(X_train)\n",
        "X_test = scaler1.transform(X_test)\n",
        "scaler.fit(np.concatenate((X_train, X_test)))\n",
        "X_train = scaler.transform(X_train)\n",
        "X_test = scaler.transform(X_test)\n",
        "\n",
        "X_train.shape, X_test.shape"
      ],
      "metadata": {
        "colab": {
          "base_uri": "https://localhost:8080/"
        },
        "id": "VAwZ07w_qST-",
        "outputId": "999e8c8b-7364-4d84-95b4-905316368811"
      },
      "execution_count": 7,
      "outputs": [
        {
          "output_type": "execute_result",
          "data": {
            "text/plain": [
              "((16500, 1), (13862, 1))"
            ]
          },
          "metadata": {},
          "execution_count": 7
        }
      ]
    },
    {
      "cell_type": "code",
      "source": [
        "data_with_attack_lda = pd.DataFrame(X_test)\n",
        "data_with_attack_lda['Class'] = data_with_attack['Class']\n",
        "\n",
        "data_all_normal_lda = pd.DataFrame(X_train)\n",
        "data_all_normal_lda['Class'] = data_all_normal['Class']"
      ],
      "metadata": {
        "id": "cdMpS7fpqXO3"
      },
      "execution_count": 8,
      "outputs": []
    },
    {
      "cell_type": "code",
      "source": [
        "data_with_attack_lda.isna().sum(), data_all_normal_lda.isna().sum()"
      ],
      "metadata": {
        "colab": {
          "base_uri": "https://localhost:8080/"
        },
        "id": "HYI3Xgiyqbi0",
        "outputId": "bee8068f-82c2-4a8b-fb06-7f6fc6093de2"
      },
      "execution_count": 9,
      "outputs": [
        {
          "output_type": "execute_result",
          "data": {
            "text/plain": [
              "(0        0\n",
              " Class    0\n",
              " dtype: int64, 0        0\n",
              " Class    0\n",
              " dtype: int64)"
            ]
          },
          "metadata": {},
          "execution_count": 9
        }
      ]
    },
    {
      "cell_type": "code",
      "source": [
        "data_with_attack_lda.shape, data_all_normal_lda.shape"
      ],
      "metadata": {
        "colab": {
          "base_uri": "https://localhost:8080/"
        },
        "id": "IAAF29NL3fC1",
        "outputId": "920aec11-63a4-49ad-c695-3dbdab1e5559"
      },
      "execution_count": 10,
      "outputs": [
        {
          "output_type": "execute_result",
          "data": {
            "text/plain": [
              "((13862, 2), (16500, 2))"
            ]
          },
          "metadata": {},
          "execution_count": 10
        }
      ]
    },
    {
      "cell_type": "markdown",
      "source": [
        "## VAE-LSTM"
      ],
      "metadata": {
        "id": "eZ6SMDBC_2VQ"
      }
    },
    {
      "cell_type": "code",
      "source": [
        "class Data_Process(object):\n",
        "\n",
        "    def __init__(self,dataset,columns,time_steps):\n",
        "        self.time_steps = time_steps\n",
        "        self.data = dataset\n",
        "        self.columns = columns\n",
        "        self.data[self.columns] = self.data[self.columns].shift(-1) - self.data[self.columns]\n",
        "        self.data = self.data.dropna(how='any')\n",
        "        self.pt= 0\n",
        "        self.all_data = np.array([])\n",
        "        self.labels = np.array([])\n",
        "        \n",
        "    def _process_data(self, is_smote=False):\n",
        "        self._data_arrange(is_smote)\n",
        "\n",
        "    def _data_arrange(self, is_smote=False):\n",
        "        array_length = self.data.shape[0]-self.time_steps+1\n",
        "        self.all_data = np.zeros(shape=(array_length, self.time_steps, len(self.columns)))\n",
        "        self.labels = np.zeros(shape=(array_length))\n",
        "        column_array = self.data[self.columns].values  \n",
        "        label_array = self.data['Class'].values\n",
        "        for i in range(array_length):\n",
        "            column_array_reshape = column_array[i:i+self.time_steps].reshape((-1,self.time_steps,len(self.columns)))\n",
        "            timesteps_label = label_array[i:i+self.time_steps]\n",
        "            # print(self.labels.shape)\n",
        "            label_reshape = timesteps_label[-1]\n",
        "            self.all_data[i] = column_array_reshape\n",
        "            self.labels[i] = label_reshape \n",
        "        # after arraging time_step data, we can shffule or smote here to avoid loss -> inf by unbalance features\n",
        "        if is_smote:\n",
        "            smote = SMOTE()\n",
        "            all_data_for_remote = self.all_data.reshape(-1,self.time_steps*len(self.columns))\n",
        "            all_data_for_remote,self.labels = smote.fit_resample(all_data_for_remote,self.labels)\n",
        "            self.all_data = all_data_for_remote.reshape(-1,self.time_steps,len(self.columns))\n",
        "        rng_state = np.random.get_state()\n",
        "        np.random.shuffle(self.all_data)\n",
        "        np.random.set_state(rng_state)\n",
        "        np.random.shuffle(self.labels)\n",
        "\n",
        "    def retrive_data(self,batch_size):\n",
        "        batch_train = None\n",
        "        if self.all_data.shape[0] < batch_size:\n",
        "            batch_train = self.all_data\n",
        "        else:\n",
        "            if (self.pt + 1) * batch_size >= self.all_data.shape[0]:\n",
        "                self.pt = 0\n",
        "                batch_train = self.all_data[self.pt * batch_size:,]\n",
        "            else:\n",
        "                batch_train = self.all_data[self.pt * batch_size:(self.pt + 1) * batch_size,]\n",
        "                self.pt = self.pt + 1\n",
        "        if batch_train.ndim < self.all_data.ndim:\n",
        "            batch_trainn = np.expand_dims(batch_train,0)\n",
        "        return batch_train\n",
        "\n",
        "#data_source_all_normal_class = Data_Process(data_all_normal_pca, column_names, time_steps=32)\n",
        "#data_source_all_normal_class._process_data()\n",
        "#data_source_all_normal_class.retrive_data(128).shape"
      ],
      "metadata": {
        "id": "ET41epLrqg28"
      },
      "execution_count": 18,
      "outputs": []
    },
    {
      "cell_type": "code",
      "source": [
        "def leak_relu(x, leak=0.2, name='leak_relu'):\n",
        "\treturn tf.maximum(x, leak*x)\n",
        "\n",
        "\n",
        "def get_lstm_cell(unit_list, act_fn_list):\n",
        "    return tf.keras.layers.StackedRNNCells([tf.keras.layers.LSTMCell(unit, activation=act_fn) for unit,act_fn in zip(unit_list,act_fn_list)])"
      ],
      "metadata": {
        "id": "RhOZSaJ925OV"
      },
      "execution_count": 19,
      "outputs": []
    },
    {
      "cell_type": "code",
      "source": [
        "column_names = list(data_with_attack_lda.columns)\n",
        "column_names.remove('Class')"
      ],
      "metadata": {
        "id": "BhO-CfEYqkfN"
      },
      "execution_count": 20,
      "outputs": []
    },
    {
      "cell_type": "code",
      "source": [
        "class VAE_LSTM(object):\n",
        "    def __init__(self, train_data, test_data, columns, z_sample_dim, time_steps, outlier_fraction, epochs, latent_dims, learning_rate=0.001):\n",
        "        tf.compat.v1.reset_default_graph()\n",
        "        self.outlier_fraction = outlier_fraction\n",
        "        self.data_train= Data_Process(train_data, columns, time_steps=time_steps)\n",
        "        self.data_train._process_data()\n",
        "        self.data_length = self.data_train.all_data.shape[0]\n",
        "        self.data_test = Data_Process(test_data, columns, time_steps=time_steps)\n",
        "        self.data_test._process_data(is_smote=True)\n",
        "        self.latent_dims = latent_dims\n",
        "        self.batch_size = 128\n",
        "        self.learning_rate = learning_rate\n",
        "        self.epochs = epochs\n",
        "        \n",
        "        self.input_dim = len(columns)\n",
        "        self.z_sample_dim = z_sample_dim\n",
        "        self.time_steps = time_steps\n",
        "    \n",
        "        self.pt = 0 \n",
        "        self.score = 0\n",
        "        self.session = tf.compat.v1.Session()\n",
        "        self._network()\n",
        "        self.session.run(tf.compat.v1.global_variables_initializer())\n",
        "\n",
        "        \n",
        "    def _network(self):\n",
        "        with tf.compat.v1.variable_scope('ph'):\n",
        "            tf.compat.v1.disable_eager_execution()\n",
        "            self.X = tf.compat.v1.placeholder(tf.float32, shape=[None,self.time_steps,self.input_dim], name='X_input')\n",
        "            # print(input_dimm, self.X.shape)\n",
        "\n",
        "        with tf.compat.v1.variable_scope('encoder'):\n",
        "            with tf.compat.v1.variable_scope('latent_mu'):\n",
        "                lstm_mu_cell_1 = get_lstm_cell([self.z_sample_dim], [leak_relu])\n",
        "                lstm_mu_cell_2 = get_lstm_cell([self.z_sample_dim], [leak_relu])\n",
        "\n",
        "                (mu_output_1, mu_output_2),_ = tf.compat.v1.nn.bidirectional_dynamic_rnn(lstm_mu_cell_1, lstm_mu_cell_2, self.X, dtype=tf.float32)\n",
        "                Z_mean = tf.add(mu_output_1, mu_output_2)\n",
        "                \n",
        "            with tf.compat.v1.variable_scope('latent_sigma'):\n",
        "                lstm_sigma_cell_1 = get_lstm_cell([self.z_sample_dim], [tf.nn.softplus])\n",
        "                lstm_sigma_cell_2 = get_lstm_cell([self.z_sample_dim], [tf.nn.softplus])\n",
        "                (sigma_output_1, sigma_output_2),_ = tf.compat.v1.nn.bidirectional_dynamic_rnn(lstm_sigma_cell_1, lstm_sigma_cell_2, self.X, dtype=tf.float32)\n",
        "                Z_log_sigma = tf.add(sigma_output_1, sigma_output_2)\n",
        "                epsilon = tf.compat.v1.random_normal(tf.shape(Z_mean), 0,1, dtype=tf.float32)\n",
        "                Z_sample = Z_mean + Z_log_sigma * epsilon\n",
        "        \n",
        "        with tf.compat.v1.variable_scope('decoder'):\n",
        "            lstm_cell = get_lstm_cell([self.latent_dims,self.input_dim], [leak_relu, leak_relu])\n",
        "            self.reconX,_ = tf.compat.v1.nn.dynamic_rnn(lstm_cell, Z_sample, dtype=tf.float32)\n",
        " \n",
        "        with tf.compat.v1.variable_scope('loss'):\n",
        "            backend_dims = np.arange(1,tf.keras.backend.ndim(self.X))\n",
        "            reconX_loss = tf.losses.mean_squared_error(self.X, self.reconX)\n",
        "            kl_loss = - 0.5 * tf.reduce_mean(1 + Z_log_sigma - tf.square(Z_mean) - tf.exp(Z_log_sigma))\n",
        "            self.loss = reconX_loss + kl_loss\n",
        "            self.vae_lstm_loss = tf.compat.v1.reduce_sum(tf.square(self.X - self.reconX), reduction_indices=backend_dims)\n",
        "          \n",
        "\n",
        "        with tf.compat.v1.variable_scope('train'):\n",
        "            self.train_optim = tf.compat.v1.train.AdamOptimizer(self.learning_rate).minimize(self.loss)\n",
        "            \n",
        "            \n",
        "    def train(self):\n",
        "        for epoch in range(self.epochs):\n",
        "            # print(math.ceil((float)(self.data_length)/self.batch_size), self.data_length, self.batch_size)\n",
        "            for i in range(math.ceil((float)(self.data_length)/self.batch_size)):\n",
        "                self.data_train.pt = 1\n",
        "                this_X = self.data_train.retrive_data(self.batch_size)\n",
        "                # print(this_X)\n",
        "                self.session.run([self.train_optim],feed_dict={self.X: this_X})\n",
        "            \n",
        "            if epoch % 10 == 9:\n",
        "                mse_loss = self.session.run([self.loss],feed_dict={self.X: self.data_train.all_data})\n",
        "                print('Epoch {}/{}: with loss: {}'.format(epoch+1, self.epochs, np.average(mse_loss)))\n",
        "        self._recon_score(self.data_train.all_data)\n",
        "    \n",
        "    def _recon_score(self,input_data):       \n",
        "        input_vae_lstm_loss = self.session.run(self.vae_lstm_loss,feed_dict={self.X: input_data})\n",
        "        self.score = np.percentile(input_vae_lstm_loss, (1-self.outlier_fraction)*100)\n",
        "       \n",
        "    def anomaly(self,test):\n",
        "        test_data_loss = self.session.run(self.vae_lstm_loss,feed_dict={self.X: test})\n",
        "        anomaly_result = map(lambda x: 1 if x< self.score else -1,test_data_loss)\n",
        "        return list(anomaly_result)\n",
        "\n",
        "    def return_labels(self):\n",
        "        return self.data_test.labels, self.anomaly(self.data_test.all_data)"
      ],
      "metadata": {
        "id": "Ztsx1wd9sha1"
      },
      "execution_count": 21,
      "outputs": []
    },
    {
      "cell_type": "markdown",
      "source": [
        "#### Best hyperparameters"
      ],
      "metadata": {
        "id": "62g-TpmrHhwm"
      }
    },
    {
      "cell_type": "code",
      "source": [
        "# outlier_fraction: too small will be robust with abnormal data, too big will be refuse normal data\n",
        "VAE_LSTM_4 = VAE_LSTM(data_all_normal_lda, data_with_attack_lda, column_names, z_sample_dim=3, time_steps=64, outlier_fraction=0.01, epochs=40, latent_dims=32, learning_rate=0.001)\n",
        "print(\"Using LDA!!\")\n",
        "print(\"z_sample_dim=3, time_steps=64, outlier_fraction=0.01, epochs=40, latent_dims=32, learning_rate=0.001\")\n",
        "VAE_LSTM_4.train()\n",
        "labels_after_smote, predict_label_4 = VAE_LSTM_4.return_labels()\n",
        "print(classification_report(labels_after_smote, predict_label_4))"
      ],
      "metadata": {
        "colab": {
          "base_uri": "https://localhost:8080/"
        },
        "id": "bInKzrWKB9fd",
        "outputId": "9b2da225-c327-4bb3-98e0-190f917b90f2"
      },
      "execution_count": 22,
      "outputs": [
        {
          "output_type": "stream",
          "name": "stdout",
          "text": [
            "Using LDA!!\n",
            "z_sample_dim=3, time_steps=64, outlier_fraction=0.01, epochs=40, latent_dims=32, learning_rate=0.001\n",
            "Epoch 10/40: with loss: 0.090866319835186\n",
            "Epoch 20/40: with loss: 0.03824806958436966\n",
            "Epoch 30/40: with loss: 0.018558377400040627\n",
            "Epoch 40/40: with loss: 0.009370784275233746\n",
            "              precision    recall  f1-score   support\n",
            "\n",
            "        -1.0       0.90      0.52      0.66     13113\n",
            "         1.0       0.66      0.94      0.78     13113\n",
            "\n",
            "    accuracy                           0.73     26226\n",
            "   macro avg       0.78      0.73      0.72     26226\n",
            "weighted avg       0.78      0.73      0.72     26226\n",
            "\n"
          ]
        }
      ]
    },
    {
      "cell_type": "code",
      "source": [
        "# outlier_fraction: too small will be robust with abnormal data, too big will be refuse normal data\n",
        "VAE_LSTM_5 = VAE_LSTM(data_all_normal_lda, data_with_attack_lda, column_names, z_sample_dim=3, time_steps=64, outlier_fraction=0.01, epochs=40, latent_dims=32, learning_rate=0.001)\n",
        "print(\"Using LDA!!\")\n",
        "print(\"z_sample_dim=3, time_steps=64, outlier_fraction=0.01, epochs=40, latent_dims=32, learning_rate=0.001\")\n",
        "VAE_LSTM_5.train()\n",
        "labels_after_smote, predict_label_5 = VAE_LSTM_5.return_labels()\n",
        "print(classification_report(labels_after_smote, predict_label_5))"
      ],
      "metadata": {
        "colab": {
          "base_uri": "https://localhost:8080/"
        },
        "id": "0H6hJhUKy-xJ",
        "outputId": "78b0285e-3811-48f2-caba-35d39e8ab683"
      },
      "execution_count": 24,
      "outputs": [
        {
          "output_type": "stream",
          "name": "stdout",
          "text": [
            "Using LDA!!\n",
            "z_sample_dim=3, time_steps=64, outlier_fraction=0.01, epochs=40, latent_dims=32, learning_rate=0.001\n",
            "Epoch 10/40: with loss: 0.0767865926027298\n",
            "Epoch 20/40: with loss: 0.03199316933751106\n",
            "Epoch 30/40: with loss: 0.015557612292468548\n",
            "Epoch 40/40: with loss: 0.008018500171601772\n",
            "              precision    recall  f1-score   support\n",
            "\n",
            "        -1.0       0.90      0.52      0.66     13111\n",
            "         1.0       0.66      0.94      0.78     13111\n",
            "\n",
            "    accuracy                           0.73     26222\n",
            "   macro avg       0.78      0.73      0.72     26222\n",
            "weighted avg       0.78      0.73      0.72     26222\n",
            "\n"
          ]
        }
      ]
    },
    {
      "cell_type": "markdown",
      "source": [
        "#### Other hyperparameters testing"
      ],
      "metadata": {
        "id": "KsJdsJdQHtcv"
      }
    },
    {
      "cell_type": "code",
      "source": [
        "# outlier_fraction: too small will be robust with abnormal data, too big will be refuse normal data\n",
        "VAE_LSTM_1 = VAE_LSTM(data_all_normal_lda, data_with_attack_lda, column_names, z_sample_dim=3, time_steps=32, outlier_fraction=0.1, epochs=40, latent_dims=32, learning_rate=0.001)\n",
        "print(\"Using LDA!!\")\n",
        "print(\"z_sample_dim=3, time_steps=32, outlier_fraction=0.1, epochs=40, latent_dims=32, learning_rate=0.001\")\n",
        "VAE_LSTM_1.train()\n",
        "labels_after_smote, predict_label_1 = VAE_LSTM_1.return_labels()\n",
        "print(classification_report(labels_after_smote, predict_label_1))"
      ],
      "metadata": {
        "colab": {
          "base_uri": "https://localhost:8080/"
        },
        "id": "rHA7QbyewEr1",
        "outputId": "1cc00298-68be-4f43-c624-97085d378756"
      },
      "execution_count": 25,
      "outputs": [
        {
          "output_type": "stream",
          "name": "stdout",
          "text": [
            "Using LDA!!\n",
            "z_sample_dim=3, time_steps=32, outlier_fraction=0.1, epochs=40, latent_dims=32, learning_rate=0.001\n",
            "Epoch 10/40: with loss: 0.07244569808244705\n",
            "Epoch 20/40: with loss: 0.030086228623986244\n",
            "Epoch 30/40: with loss: 0.015052284114062786\n",
            "Epoch 40/40: with loss: 0.008308272808790207\n",
            "              precision    recall  f1-score   support\n",
            "\n",
            "        -1.0       0.83      0.49      0.61     13137\n",
            "         1.0       0.64      0.90      0.75     13137\n",
            "\n",
            "    accuracy                           0.69     26274\n",
            "   macro avg       0.73      0.69      0.68     26274\n",
            "weighted avg       0.73      0.69      0.68     26274\n",
            "\n"
          ]
        }
      ]
    },
    {
      "cell_type": "code",
      "source": [
        "# outlier_fraction: too small will be robust with abnormal data, too big will be refuse normal data\n",
        "VAE_LSTM_2 = VAE_LSTM(data_all_normal_lda, data_with_attack_lda, column_names, z_sample_dim=3, time_steps=32, outlier_fraction=0.01, epochs=40, latent_dims=32, learning_rate=0.001)\n",
        "print(\"Using LDA!!\")\n",
        "print(\"z_sample_dim=3, time_steps=32, outlier_fraction=0.01, epochs=40, latent_dims=32, learning_rate=0.001\")\n",
        "VAE_LSTM_2.train()\n",
        "labels_after_smote, predict_label_2 = VAE_LSTM_2.return_labels()\n",
        "print(classification_report(labels_after_smote, predict_label_2))"
      ],
      "metadata": {
        "colab": {
          "base_uri": "https://localhost:8080/"
        },
        "id": "CgefqcfD6eQ-",
        "outputId": "1c94ca6f-8d47-49ac-8350-5c3dbe6d7d91"
      },
      "execution_count": 26,
      "outputs": [
        {
          "output_type": "stream",
          "name": "stdout",
          "text": [
            "Using LDA!!\n",
            "z_sample_dim=3, time_steps=32, outlier_fraction=0.01, epochs=40, latent_dims=32, learning_rate=0.001\n",
            "Epoch 10/40: with loss: 0.09473664313554764\n",
            "Epoch 20/40: with loss: 0.0443907268345356\n",
            "Epoch 30/40: with loss: 0.024797240272164345\n",
            "Epoch 40/40: with loss: 0.015427250415086746\n",
            "              precision    recall  f1-score   support\n",
            "\n",
            "        -1.0       0.93      0.46      0.61     13136\n",
            "         1.0       0.64      0.96      0.77     13136\n",
            "\n",
            "    accuracy                           0.71     26272\n",
            "   macro avg       0.78      0.71      0.69     26272\n",
            "weighted avg       0.78      0.71      0.69     26272\n",
            "\n"
          ]
        }
      ]
    },
    {
      "cell_type": "code",
      "source": [
        "# outlier_fraction: too small will be robust with abnormal data, too big will be refuse normal data\n",
        "VAE_LSTM_3 = VAE_LSTM(data_all_normal_lda, data_with_attack_lda, column_names, z_sample_dim=3, time_steps=32, outlier_fraction=0.02, epochs=40, latent_dims=32, learning_rate=0.001)\n",
        "print(\"Using LDA!!\")\n",
        "print(\"z_sample_dim=3, time_steps=32, outlier_fraction=0.02, epochs=40, latent_dims=32, learning_rate=0.001\")\n",
        "VAE_LSTM_3.train()\n",
        "labels_after_smote, predict_label_3 = VAE_LSTM_3.return_labels()\n",
        "print(classification_report(labels_after_smote, predict_label_3))"
      ],
      "metadata": {
        "colab": {
          "base_uri": "https://localhost:8080/"
        },
        "id": "mP-EbgCr8JpD",
        "outputId": "4c2b633a-8855-41ba-ecd5-9f2d3889bb18"
      },
      "execution_count": 27,
      "outputs": [
        {
          "output_type": "stream",
          "name": "stdout",
          "text": [
            "Using LDA!!\n",
            "z_sample_dim=3, time_steps=32, outlier_fraction=0.02, epochs=40, latent_dims=32, learning_rate=0.001\n",
            "Epoch 10/40: with loss: 0.10990281403064728\n",
            "Epoch 20/40: with loss: 0.057437606155872345\n",
            "Epoch 30/40: with loss: 0.037935417145490646\n",
            "Epoch 40/40: with loss: 0.02888563647866249\n",
            "              precision    recall  f1-score   support\n",
            "\n",
            "        -1.0       0.91      0.45      0.60     13135\n",
            "         1.0       0.64      0.95      0.76     13135\n",
            "\n",
            "    accuracy                           0.70     26270\n",
            "   macro avg       0.77      0.70      0.68     26270\n",
            "weighted avg       0.77      0.70      0.68     26270\n",
            "\n"
          ]
        }
      ]
    }
  ]
}