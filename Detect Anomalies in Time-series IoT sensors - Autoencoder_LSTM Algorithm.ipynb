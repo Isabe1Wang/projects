{
  "cells": [
    {
      "cell_type": "code",
      "execution_count": 1,
      "metadata": {
        "colab": {
          "base_uri": "https://localhost:8080/"
        },
        "id": "wrSFhDKDe5BY",
        "outputId": "66ce651c-3525-4d8f-85bf-ee8dab1bc955"
      },
      "outputs": [
        {
          "name": "stdout",
          "output_type": "stream",
          "text": [
            "Mounted at /content/drive\n"
          ]
        }
      ],
      "source": [
        "from google.colab import drive\n",
        "drive.mount('/content/drive')"
      ]
    },
    {
      "attachments": {},
      "cell_type": "markdown",
      "metadata": {},
      "source": [
        "AutoEncoder - LSTM"
      ]
    },
    {
      "cell_type": "code",
      "execution_count": 2,
      "metadata": {
        "id": "SY9ttUg40OaM"
      },
      "outputs": [],
      "source": [
        "import matplotlib.pyplot as plt\n",
        "import numpy as np\n",
        "import pandas as pd\n",
        "import tensorflow as tf\n",
        "from tensorflow import keras\n",
        "from tensorflow.keras import layers,losses\n",
        "from keras.models import Sequential\n",
        "from keras.layers import Input, Dropout, Dense, LSTM, TimeDistributed, RepeatVector\n",
        "from keras.models import Model\n",
        "from keras import regularizers\n",
        "from sklearn.metrics import roc_curve,auc,accuracy_score, precision_score, recall_score,f1_score, classification_report,confusion_matrix\n",
        "import seaborn as sns\n",
        "from imblearn.over_sampling import SMOTE\n",
        "from sklearn.preprocessing import MinMaxScaler\n",
        "import warnings\n",
        "warnings.filterwarnings('ignore')"
      ]
    },
    {
      "cell_type": "code",
      "execution_count": 3,
      "metadata": {
        "id": "i0jsgsGs-KsH"
      },
      "outputs": [],
      "source": [
        "class Data_process(object):\n",
        "    def __init__(self,file2='/content/drive/MyDrive/COMP DATA5703/SWAT_with_attack_cleaning_sampling.csv',file1='/content/drive/MyDrive/COMP DATA5703/SWAT_all_normal_data_cleaning_sampling.csv'):\n",
        "        self.train = pd.read_csv(file1)\n",
        "        self.test = pd.read_csv(file2)\n",
        "\n",
        "    def data_scaler(self):\n",
        "        train_labels = self.train.iloc[:,1]\n",
        "        trainingdata = self.train.iloc[:, 2:]\n",
        "        testingdata,test_labels = self.over_sample_smote(self.test.iloc[:, 2:],self.test.iloc[:,1])\n",
        "        scaler = MinMaxScaler()\n",
        "        scaler.fit(trainingdata)\n",
        "        X_train = scaler.transform(trainingdata)\n",
        "        X_test = scaler.transform(testingdata)\n",
        "        return X_train,train_labels,X_test,test_labels\n",
        "\n",
        "    def data_reshape(self,time_step):\n",
        "        X_train,train_labels,X_test,test_labels = self.data_scaler()\n",
        "        X_train = X_train.reshape(X_train.shape[0], time_step, X_train.shape[1])\n",
        "        X_test = X_test.reshape(X_test.shape[0], time_step, X_test.shape[1])\n",
        "        return X_train,train_labels,X_test,test_labels\n",
        "        \n",
        "    def over_sample_smote(self,X,y):\n",
        "        sm = SMOTE(random_state=0)\n",
        "        X_res, y_res = sm.fit_resample(X, y)\n",
        "        return X_res,y_res\n",
        "    "
      ]
    },
    {
      "cell_type": "code",
      "execution_count": 4,
      "metadata": {
        "id": "89Khu97W_9-B"
      },
      "outputs": [],
      "source": [
        "class AELSTM_MODEL():\n",
        "    def __init__(self,X_train,train_labels,X_test,test_labels,time_step=1):\n",
        "        self.model = Sequential([\n",
        "            LSTM(32, activation='relu', return_sequences=True, kernel_regularizer=regularizers.l2(0.001)),\n",
        "            LSTM(16, activation='relu', return_sequences=False),\n",
        "            RepeatVector(time_step),\n",
        "            LSTM(16, activation='relu', return_sequences=True),\n",
        "            LSTM(32, activation='relu', return_sequences=True),\n",
        "            TimeDistributed(Dense(X_train.shape[2]))\n",
        "        ])\n",
        "        self.X_train,self.train_labels,self.X_test,self.test_labels = X_train,train_labels,X_test,test_labels\n",
        "\n",
        "    def model_train(self,epochs = 40,batch_size = 256,validation_split=0.1):\n",
        "        self.model.compile(optimizer='adam', loss='mae')\n",
        "        history = self.model.fit(self.X_train,self.X_train,\n",
        "                                 epochs=epochs, \n",
        "                                 batch_size=batch_size,\n",
        "                                 validation_split=validation_split).history\n",
        "        self.model.summary()\n",
        "        return history\n",
        "\n",
        "    def plot_loss(self,history):\n",
        "        fig, ax = plt.subplots(figsize=(10, 6), dpi=80)\n",
        "        ax.plot(history['val_loss'], 'b', label='Validation loss', linewidth=2)\n",
        "        ax.plot(history['loss'], 'r', label='Training loss', linewidth=2)\n",
        "        ax.set_ylabel('MAE loss')\n",
        "        ax.set_xlabel('Epoch')\n",
        "        ax.legend(loc='upper right')\n",
        "        ax.set_title('Model loss Plot', fontsize=12)\n",
        "        plt.show()\n",
        "\n",
        "    def plot_dist(self):\n",
        "        Xpredict = self.model.predict(self.X_train)\n",
        "        Xpredict = Xpredict.reshape(Xpredict.shape[0], Xpredict.shape[2])\n",
        "\n",
        "        X_train_reshape = self.X_train.reshape(X_train.shape[0], X_train.shape[2])\n",
        "        MAE_train = np.mean(np.abs(Xpredict-X_train_reshape), axis = 1)\n",
        "        plt.figure(figsize=(10,6), dpi=80)\n",
        "        plt.title('Distribution of loss in training data', fontsize=12)\n",
        "        sns.distplot(MAE_train, bins = 20, kde= True, color = 'blue');\n",
        "        plt.xlim([0.0,0.3])\n",
        "        plt.show()\n",
        "\n",
        "    def cal_loss_test(self):\n",
        "        test_pred = self.model.predict(self.X_test)\n",
        "        test_pred = test_pred.reshape(test_pred.shape[0], test_pred.shape[2])\n",
        "        test_pred = pd.DataFrame(test_pred,index=range(test_pred.shape[0]))\n",
        "        scored_df = pd.DataFrame(index=range(test_pred.shape[0]))\n",
        "        test_reshape = self.X_test.reshape(self.X_test.shape[0], self.X_test.shape[2])\n",
        "        scored_df['MAELoss'] = np.mean(np.abs(test_pred- test_reshape), axis = 1)\n",
        "        scored_df['RE Threshold'] = 0.25\n",
        "        scored_df['Anomaly'] = scored_df['MAELoss'] > scored_df['RE Threshold']\n",
        "        return scored_df\n",
        "\n",
        "    def plot_score(self,scored_df):\n",
        "        scored_df.plot(logy=True,  color=['blue','red'],ylim=[1e-2,1e2], figsize=(16,9) )\n",
        "        plt.show()\n",
        "\n",
        "    def class_report(self,y_true, y_pred):\n",
        "        print(\"Accuracy = {}\".format(accuracy_score(y_true, y_pred)))\n",
        "        print(\"Precision = {}\".format(precision_score(y_true, y_pred)))\n",
        "        print(\"Recall = {}\".format(recall_score(y_true, y_pred)))\n",
        "        print(\"F1-score ={}\".format(f1_score(y_true, y_pred)))\n",
        "        print(classification_report(y_true, y_pred))\n"
      ]
    },
    {
      "cell_type": "code",
      "execution_count": 5,
      "metadata": {
        "id": "CACbd2B7-KsI"
      },
      "outputs": [],
      "source": [
        "data_process = Data_process()\n",
        "X_train,train_labels,X_test,test_labels = data_process.data_reshape(1)"
      ]
    },
    {
      "cell_type": "code",
      "execution_count": 6,
      "metadata": {
        "colab": {
          "base_uri": "https://localhost:8080/"
        },
        "id": "nW0VGkSo-KsJ",
        "outputId": "e1bd63ba-2c6d-4388-e262-5814a412dc0f"
      },
      "outputs": [
        {
          "name": "stdout",
          "output_type": "stream",
          "text": [
            "Epoch 1/40\n",
            "59/59 [==============================] - 8s 33ms/step - loss: 0.5778 - val_loss: 0.5138\n",
            "Epoch 2/40\n",
            "59/59 [==============================] - 1s 14ms/step - loss: 0.3310 - val_loss: 0.1262\n",
            "Epoch 3/40\n",
            "59/59 [==============================] - 1s 11ms/step - loss: 0.1152 - val_loss: 0.0936\n",
            "Epoch 4/40\n",
            "59/59 [==============================] - 1s 8ms/step - loss: 0.0988 - val_loss: 0.0866\n",
            "Epoch 5/40\n",
            "59/59 [==============================] - 1s 9ms/step - loss: 0.0951 - val_loss: 0.0826\n",
            "Epoch 6/40\n",
            "59/59 [==============================] - 0s 8ms/step - loss: 0.0936 - val_loss: 0.0867\n",
            "Epoch 7/40\n",
            "59/59 [==============================] - 1s 9ms/step - loss: 0.0925 - val_loss: 0.0796\n",
            "Epoch 8/40\n",
            "59/59 [==============================] - 1s 9ms/step - loss: 0.0913 - val_loss: 0.0807\n",
            "Epoch 9/40\n",
            "59/59 [==============================] - 1s 9ms/step - loss: 0.0906 - val_loss: 0.0788\n",
            "Epoch 10/40\n",
            "59/59 [==============================] - 1s 8ms/step - loss: 0.0902 - val_loss: 0.0781\n",
            "Epoch 11/40\n",
            "59/59 [==============================] - 1s 9ms/step - loss: 0.0894 - val_loss: 0.0777\n",
            "Epoch 12/40\n",
            "59/59 [==============================] - 1s 9ms/step - loss: 0.0890 - val_loss: 0.0777\n",
            "Epoch 13/40\n",
            "59/59 [==============================] - 1s 9ms/step - loss: 0.0886 - val_loss: 0.0775\n",
            "Epoch 14/40\n",
            "59/59 [==============================] - 0s 8ms/step - loss: 0.0882 - val_loss: 0.0771\n",
            "Epoch 15/40\n",
            "59/59 [==============================] - 1s 9ms/step - loss: 0.0880 - val_loss: 0.0773\n",
            "Epoch 16/40\n",
            "59/59 [==============================] - 0s 8ms/step - loss: 0.0878 - val_loss: 0.0781\n",
            "Epoch 17/40\n",
            "59/59 [==============================] - 0s 8ms/step - loss: 0.0877 - val_loss: 0.0793\n",
            "Epoch 18/40\n",
            "59/59 [==============================] - 0s 8ms/step - loss: 0.0878 - val_loss: 0.0762\n",
            "Epoch 19/40\n",
            "59/59 [==============================] - 1s 9ms/step - loss: 0.0873 - val_loss: 0.0780\n",
            "Epoch 20/40\n",
            "59/59 [==============================] - 1s 9ms/step - loss: 0.0873 - val_loss: 0.0772\n",
            "Epoch 21/40\n",
            "59/59 [==============================] - 1s 9ms/step - loss: 0.0871 - val_loss: 0.0762\n",
            "Epoch 22/40\n",
            "59/59 [==============================] - 1s 10ms/step - loss: 0.0870 - val_loss: 0.0759\n",
            "Epoch 23/40\n",
            "59/59 [==============================] - 1s 9ms/step - loss: 0.0867 - val_loss: 0.0757\n",
            "Epoch 24/40\n",
            "59/59 [==============================] - 0s 8ms/step - loss: 0.0868 - val_loss: 0.0753\n",
            "Epoch 25/40\n",
            "59/59 [==============================] - 0s 8ms/step - loss: 0.0867 - val_loss: 0.0755\n",
            "Epoch 26/40\n",
            "59/59 [==============================] - 0s 8ms/step - loss: 0.0864 - val_loss: 0.0759\n",
            "Epoch 27/40\n",
            "59/59 [==============================] - 0s 8ms/step - loss: 0.0864 - val_loss: 0.0758\n",
            "Epoch 28/40\n",
            "59/59 [==============================] - 0s 8ms/step - loss: 0.0864 - val_loss: 0.0768\n",
            "Epoch 29/40\n",
            "59/59 [==============================] - 0s 8ms/step - loss: 0.0864 - val_loss: 0.0758\n",
            "Epoch 30/40\n",
            "59/59 [==============================] - 0s 8ms/step - loss: 0.0862 - val_loss: 0.0763\n",
            "Epoch 31/40\n",
            "59/59 [==============================] - 0s 8ms/step - loss: 0.0863 - val_loss: 0.0743\n",
            "Epoch 32/40\n",
            "59/59 [==============================] - 1s 8ms/step - loss: 0.0861 - val_loss: 0.0751\n",
            "Epoch 33/40\n",
            "59/59 [==============================] - 1s 8ms/step - loss: 0.0861 - val_loss: 0.0742\n",
            "Epoch 34/40\n",
            "59/59 [==============================] - 0s 8ms/step - loss: 0.0861 - val_loss: 0.0761\n",
            "Epoch 35/40\n",
            "59/59 [==============================] - 1s 9ms/step - loss: 0.0860 - val_loss: 0.0744\n",
            "Epoch 36/40\n",
            "59/59 [==============================] - 1s 9ms/step - loss: 0.0860 - val_loss: 0.0752\n",
            "Epoch 37/40\n",
            "59/59 [==============================] - 1s 9ms/step - loss: 0.0861 - val_loss: 0.0754\n",
            "Epoch 38/40\n",
            "59/59 [==============================] - 0s 8ms/step - loss: 0.0859 - val_loss: 0.0745\n",
            "Epoch 39/40\n",
            "59/59 [==============================] - 1s 9ms/step - loss: 0.0860 - val_loss: 0.0754\n",
            "Epoch 40/40\n",
            "59/59 [==============================] - 1s 8ms/step - loss: 0.0858 - val_loss: 0.0759\n",
            "Model: \"sequential\"\n",
            "_________________________________________________________________\n",
            " Layer (type)                Output Shape              Param #   \n",
            "=================================================================\n",
            " lstm (LSTM)                 (None, 1, 32)             8192      \n",
            "                                                                 \n",
            " lstm_1 (LSTM)               (None, 16)                3136      \n",
            "                                                                 \n",
            " repeat_vector (RepeatVector  (None, 1, 16)            0         \n",
            " )                                                               \n",
            "                                                                 \n",
            " lstm_2 (LSTM)               (None, 1, 16)             2112      \n",
            "                                                                 \n",
            " lstm_3 (LSTM)               (None, 1, 32)             6272      \n",
            "                                                                 \n",
            " time_distributed (TimeDistr  (None, 1, 31)            1023      \n",
            " ibuted)                                                         \n",
            "                                                                 \n",
            "=================================================================\n",
            "Total params: 20,735\n",
            "Trainable params: 20,735\n",
            "Non-trainable params: 0\n",
            "_________________________________________________________________\n"
          ]
        }
      ],
      "source": [
        "aelstm_model = AELSTM_MODEL(X_train,train_labels,X_test,test_labels)\n",
        "history = aelstm_model.model_train()"
      ]
    },
    {
      "cell_type": "code",
      "execution_count": 7,
      "metadata": {
        "colab": {
          "base_uri": "https://localhost:8080/",
          "height": 444
        },
        "id": "eaOS_5ZR-KsK",
        "outputId": "564653c4-9c8a-4b7a-ca82-e856f8ed6de6"
      },
      "outputs": [
        {
          "data": {
            "image/png": "[encoded data removed]",
            "text/plain": [
              "<Figure size 800x480 with 1 Axes>"
            ]
          },
          "metadata": {
            "needs_background": "light"
          },
          "output_type": "display_data"
        }
      ],
      "source": [
        "aelstm_model.plot_loss(history)"
      ]
    },
    {
      "cell_type": "code",
      "execution_count": 8,
      "metadata": {
        "colab": {
          "base_uri": "https://localhost:8080/",
          "height": 446
        },
        "id": "QYxKlUtY-KsL",
        "outputId": "3978a45a-b2fa-4d7b-8e85-917ac5031e11"
      },
      "outputs": [
        {
          "name": "stdout",
          "output_type": "stream",
          "text": [
            "516/516 [==============================] - 2s 3ms/step\n"
          ]
        },
        {
          "data": {
            "image/png": "[encoded data removed]",
            "text/plain": [
              "<Figure size 800x480 with 1 Axes>"
            ]
          },
          "metadata": {
            "needs_background": "light"
          },
          "output_type": "display_data"
        }
      ],
      "source": [
        "aelstm_model.plot_dist()"
      ]
    },
    {
      "cell_type": "code",
      "execution_count": 10,
      "metadata": {
        "colab": {
          "base_uri": "https://localhost:8080/",
          "height": 441
        },
        "id": "BBiizOyjNHlU",
        "outputId": "78317dff-b6e6-4ca1-a318-af4d56d0ba2f"
      },
      "outputs": [
        {
          "name": "stdout",
          "output_type": "stream",
          "text": [
            "824/824 [==============================] - 3s 3ms/step\n"
          ]
        },
        {
          "data": {
            "text/html": [
              "\n",
              "  <div id=\"df-1cdfb853-07f2-4277-ad3a-b84d0a116aad\">\n",
              "    <div class=\"colab-df-container\">\n",
              "      <div>\n",
              "<style scoped>\n",
              "    .dataframe tbody tr th:only-of-type {\n",
              "        vertical-align: middle;\n",
              "    }\n",
              "\n",
              "    .dataframe tbody tr th {\n",
              "        vertical-align: top;\n",
              "    }\n",
              "\n",
              "    .dataframe thead th {\n",
              "        text-align: right;\n",
              "    }\n",
              "</style>\n",
              "<table border=\"1\" class=\"dataframe\">\n",
              "  <thead>\n",
              "    <tr style=\"text-align: right;\">\n",
              "      <th></th>\n",
              "      <th>MAELoss</th>\n",
              "      <th>RE Threshold</th>\n",
              "      <th>Anomaly</th>\n",
              "    </tr>\n",
              "  </thead>\n",
              "  <tbody>\n",
              "    <tr>\n",
              "      <th>0</th>\n",
              "      <td>0.035693</td>\n",
              "      <td>0.25</td>\n",
              "      <td>False</td>\n",
              "    </tr>\n",
              "    <tr>\n",
              "      <th>1</th>\n",
              "      <td>0.037446</td>\n",
              "      <td>0.25</td>\n",
              "      <td>False</td>\n",
              "    </tr>\n",
              "    <tr>\n",
              "      <th>2</th>\n",
              "      <td>0.036939</td>\n",
              "      <td>0.25</td>\n",
              "      <td>False</td>\n",
              "    </tr>\n",
              "    <tr>\n",
              "      <th>3</th>\n",
              "      <td>0.037142</td>\n",
              "      <td>0.25</td>\n",
              "      <td>False</td>\n",
              "    </tr>\n",
              "    <tr>\n",
              "      <th>4</th>\n",
              "      <td>0.036812</td>\n",
              "      <td>0.25</td>\n",
              "      <td>False</td>\n",
              "    </tr>\n",
              "    <tr>\n",
              "      <th>...</th>\n",
              "      <td>...</td>\n",
              "      <td>...</td>\n",
              "      <td>...</td>\n",
              "    </tr>\n",
              "    <tr>\n",
              "      <th>26343</th>\n",
              "      <td>0.365623</td>\n",
              "      <td>0.25</td>\n",
              "      <td>True</td>\n",
              "    </tr>\n",
              "    <tr>\n",
              "      <th>26344</th>\n",
              "      <td>0.552084</td>\n",
              "      <td>0.25</td>\n",
              "      <td>True</td>\n",
              "    </tr>\n",
              "    <tr>\n",
              "      <th>26345</th>\n",
              "      <td>0.300645</td>\n",
              "      <td>0.25</td>\n",
              "      <td>True</td>\n",
              "    </tr>\n",
              "    <tr>\n",
              "      <th>26346</th>\n",
              "      <td>0.274072</td>\n",
              "      <td>0.25</td>\n",
              "      <td>True</td>\n",
              "    </tr>\n",
              "    <tr>\n",
              "      <th>26347</th>\n",
              "      <td>0.271470</td>\n",
              "      <td>0.25</td>\n",
              "      <td>True</td>\n",
              "    </tr>\n",
              "  </tbody>\n",
              "</table>\n",
              "<p>26348 rows × 3 columns</p>\n",
              "</div>\n",
              "      <button class=\"colab-df-convert\" onclick=\"convertToInteractive('df-1cdfb853-07f2-4277-ad3a-b84d0a116aad')\"\n",
              "              title=\"Convert this dataframe to an interactive table.\"\n",
              "              style=\"display:none;\">\n",
              "        \n",
              "  <svg xmlns=\"http://www.w3.org/2000/svg\" height=\"24px\"viewBox=\"0 0 24 24\"\n",
              "       width=\"24px\">\n",
              "    <path d=\"M0 0h24v24H0V0z\" fill=\"none\"/>\n",
              "    <path d=\"M18.56 5.44l.94 2.06.94-2.06 2.06-.94-2.06-.94-.94-2.06-.94 2.06-2.06.94zm-11 1L8.5 8.5l.94-2.06 2.06-.94-2.06-.94L8.5 2.5l-.94 2.06-2.06.94zm10 10l.94 2.06.94-2.06 2.06-.94-2.06-.94-.94-2.06-.94 2.06-2.06.94z\"/><path d=\"M17.41 7.96l-1.37-1.37c-.4-.4-.92-.59-1.43-.59-.52 0-1.04.2-1.43.59L10.3 9.45l-7.72 7.72c-.78.78-.78 2.05 0 2.83L4 21.41c.39.39.9.59 1.41.59.51 0 1.02-.2 1.41-.59l7.78-7.78 2.81-2.81c.8-.78.8-2.07 0-2.86zM5.41 20L4 18.59l7.72-7.72 1.47 1.35L5.41 20z\"/>\n",
              "  </svg>\n",
              "      </button>\n",
              "      \n",
              "  <style>\n",
              "    .colab-df-container {\n",
              "      display:flex;\n",
              "      flex-wrap:wrap;\n",
              "      gap: 12px;\n",
              "    }\n",
              "\n",
              "    .colab-df-convert {\n",
              "      background-color: #E8F0FE;\n",
              "      border: none;\n",
              "      border-radius: 50%;\n",
              "      cursor: pointer;\n",
              "      display: none;\n",
              "      fill: #1967D2;\n",
              "      height: 32px;\n",
              "      padding: 0 0 0 0;\n",
              "      width: 32px;\n",
              "    }\n",
              "\n",
              "    .colab-df-convert:hover {\n",
              "      background-color: #E2EBFA;\n",
              "      box-shadow: 0px 1px 2px rgba(60, 64, 67, 0.3), 0px 1px 3px 1px rgba(60, 64, 67, 0.15);\n",
              "      fill: #174EA6;\n",
              "    }\n",
              "\n",
              "    [theme=dark] .colab-df-convert {\n",
              "      background-color: #3B4455;\n",
              "      fill: #D2E3FC;\n",
              "    }\n",
              "\n",
              "    [theme=dark] .colab-df-convert:hover {\n",
              "      background-color: #434B5C;\n",
              "      box-shadow: 0px 1px 3px 1px rgba(0, 0, 0, 0.15);\n",
              "      filter: drop-shadow(0px 1px 2px rgba(0, 0, 0, 0.3));\n",
              "      fill: #FFFFFF;\n",
              "    }\n",
              "  </style>\n",
              "\n",
              "      <script>\n",
              "        const buttonEl =\n",
              "          document.querySelector('#df-1cdfb853-07f2-4277-ad3a-b84d0a116aad button.colab-df-convert');\n",
              "        buttonEl.style.display =\n",
              "          google.colab.kernel.accessAllowed ? 'block' : 'none';\n",
              "\n",
              "        async function convertToInteractive(key) {\n",
              "          const element = document.querySelector('#df-1cdfb853-07f2-4277-ad3a-b84d0a116aad');\n",
              "          const dataTable =\n",
              "            await google.colab.kernel.invokeFunction('convertToInteractive',\n",
              "                                                     [key], {});\n",
              "          if (!dataTable) return;\n",
              "\n",
              "          const docLinkHtml = 'Like what you see? Visit the ' +\n",
              "            '<a target=\"_blank\" href=https://colab.research.google.com/notebooks/data_table.ipynb>data table notebook</a>'\n",
              "            + ' to learn more about interactive tables.';\n",
              "          element.innerHTML = '';\n",
              "          dataTable['output_type'] = 'display_data';\n",
              "          await google.colab.output.renderOutput(dataTable, element);\n",
              "          const docLink = document.createElement('div');\n",
              "          docLink.innerHTML = docLinkHtml;\n",
              "          element.appendChild(docLink);\n",
              "        }\n",
              "      </script>\n",
              "    </div>\n",
              "  </div>\n",
              "  "
            ],
            "text/plain": [
              "        MAELoss  RE Threshold  Anomaly\n",
              "0      0.035693          0.25    False\n",
              "1      0.037446          0.25    False\n",
              "2      0.036939          0.25    False\n",
              "3      0.037142          0.25    False\n",
              "4      0.036812          0.25    False\n",
              "...         ...           ...      ...\n",
              "26343  0.365623          0.25     True\n",
              "26344  0.552084          0.25     True\n",
              "26345  0.300645          0.25     True\n",
              "26346  0.274072          0.25     True\n",
              "26347  0.271470          0.25     True\n",
              "\n",
              "[26348 rows x 3 columns]"
            ]
          },
          "execution_count": 10,
          "metadata": {},
          "output_type": "execute_result"
        }
      ],
      "source": [
        "scored_df = aelstm_model.cal_loss_test()\n",
        "scored_df"
      ]
    },
    {
      "cell_type": "code",
      "execution_count": 11,
      "metadata": {
        "colab": {
          "base_uri": "https://localhost:8080/",
          "height": 543
        },
        "id": "rML_tJCG-KsM",
        "outputId": "7df6aa9f-1dbc-4cfa-9a20-b6b266ac3157"
      },
      "outputs": [
        {
          "data": {
            "image/png": "[encoded data removed]",
            "text/plain": [
              "<Figure size 1152x648 with 1 Axes>"
            ]
          },
          "metadata": {
            "needs_background": "light"
          },
          "output_type": "display_data"
        }
      ],
      "source": [
        "aelstm_model.plot_score(scored_df)"
      ]
    },
    {
      "cell_type": "code",
      "execution_count": 12,
      "metadata": {
        "id": "S9veJx5m-KsN"
      },
      "outputs": [],
      "source": [
        "scored['labels'] = aelstm_model.test_labels"
      ]
    },
    {
      "cell_type": "code",
      "execution_count": 13,
      "metadata": {
        "id": "0XzkWPVD-KsN"
      },
      "outputs": [],
      "source": [
        "scored['Anomaly'] = scored['Anomaly'].apply(lambda x:1 if x==False else -1)"
      ]
    },
    {
      "cell_type": "code",
      "execution_count": 14,
      "metadata": {
        "colab": {
          "base_uri": "https://localhost:8080/"
        },
        "id": "4PGoeUhR-KsN",
        "outputId": "0f1bae7d-a668-4058-f847-7c14c46cf3fb"
      },
      "outputs": [
        {
          "name": "stdout",
          "output_type": "stream",
          "text": [
            "Accuracy = 0.5665705176863519\n",
            "Precision = 0.5484744638514261\n",
            "Recall = 0.7532260513131926\n",
            "F1-score =0.6347470095311201\n",
            "              precision    recall  f1-score   support\n",
            "\n",
            "          -1       0.61      0.38      0.47     13174\n",
            "           1       0.55      0.75      0.63     13174\n",
            "\n",
            "    accuracy                           0.57     26348\n",
            "   macro avg       0.58      0.57      0.55     26348\n",
            "weighted avg       0.58      0.57      0.55     26348\n",
            "\n"
          ]
        }
      ],
      "source": [
        "aelstm_model.class_report(scored['labels'],scored['Anomaly'])"
      ]
    }
  ],
  "metadata": {
    "colab": {
      "provenance": []
    },
    "kernelspec": {
      "display_name": "Python 3 (ipykernel)",
      "language": "python",
      "name": "python3"
    },
    "language_info": {
      "codemirror_mode": {
        "name": "ipython",
        "version": 3
      },
      "file_extension": ".py",
      "mimetype": "text/x-python",
      "name": "python",
      "nbconvert_exporter": "python",
      "pygments_lexer": "ipython3",
      "version": "3.10.6"
    }
  },
  "nbformat": 4,
  "nbformat_minor": 0
}
